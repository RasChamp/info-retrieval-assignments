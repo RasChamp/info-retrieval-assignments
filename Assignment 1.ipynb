{
 "cells": [
  {
   "cell_type": "markdown",
   "metadata": {},
   "source": [
    "# Information Retrieval in High Dimensional Data\n",
    "### Assignment 1\n",
    "\n",
    "Members: Hashir Ahmad (03708887), Mohd Toaha Umar (), Florian Auinger (), Rasmus Schamper (), "
   ]
  },
  {
   "cell_type": "markdown",
   "metadata": {},
   "source": [
    "## Task 1"
   ]
  },
  {
   "cell_type": "markdown",
   "metadata": {},
   "source": [
    "$C_d = \\{\\mathbf{x} \\in \\mathbb{R}^p | {\\lVert\\mathbf{x}\\rVert}_{\\infty} \\leq \\frac{d}{2}\\}$\n",
    "\n",
    "a) $\\mathcal{Pr}(\\mathbf{X} \\in C_d) = q$\n",
    "\n",
    "$\\implies \\mathcal{Pr}({\\lVert\\mathbf{X}\\rVert}_{\\infty} \\leq \\frac{d}{2}\\} = q$\n",
    "\n",
    "$= \\mathcal{Pr}(max (\\lvert{X_1}\\rvert, \\lvert{X_2}\\rvert, ... , \\rvert{X_p}\\lvert \\leq \\frac{d}{2}) = q$\n",
    "\n",
    "$= \\mathcal{Pr}(\\lvert{X_1}\\rvert \\leq \\frac{d}{2}, \\lvert{X_2}\\rvert \\leq \\frac{d}{2}, ..., \\lvert{X_p}\\rvert \\leq \\frac{d}{2})$\n",
    "\n",
    "$= \\mathcal{Pr}(\\lvert{X_1}\\rvert \\leq \\frac{d}{2})\\mathcal{Pr}(\\lvert{X_2}\\rvert \\leq \\frac{d}{2})...\\mathcal{Pr}(\\lvert{X_p}\\rvert \\leq \\frac{d}{2}) = q$\n",
    "\n",
    "$= \\prod_{i=1}^{p}\\mathcal{Pr}(\\lvert{X_i}\\rvert \\leq \\frac{d}{2}) = q$\n",
    "\n",
    "Since X is uniformly distributed, $\\mathcal{Pr}(\\lvert{X_1}\\rvert) = \\mathcal{Pr}(\\lvert{X_2}\\rvert) = ... = \\mathcal{Pr}(\\lvert{X_p}\\rvert) = \\frac{1}{\\frac{d}{2} - (-\\frac{d}{2})} = \\frac{1}{d}$\n",
    "\n",
    "$\\implies (\\frac{1}{d})^p = q$\n",
    "\n",
    "or $d = \\frac{1}{q^\\frac{1}{p}}$\n",
    "\n",
    "b) $\\mathcal{Pr}(\\lvert{X^1}\\rvert \\leq 2.576) = 0.99$\n",
    "\n",
    "Now, $\\mathcal{Pr}(\\lVert{X^p}\\rVert_{\\infty} > 2.576) = 1 - \\mathcal{Pr}(\\lVert{X^p}\\rVert_{\\infty} \\leq 2.576)$\n",
    "\n",
    "$= 1 - \\mathcal{Pr}(max (\\lvert{X^1}\\rvert, \\lvert{X^2}\\rvert, ... , \\rvert{X^p}\\lvert) \\leq 2.576)$\n",
    "\n",
    "$= 1 - \\mathcal{Pr}(\\lvert{X^1}\\rvert \\leq 2.576, \\lvert{X^2}\\rvert \\leq 2.576, ..., \\lvert{X^p}\\rvert \\leq 2.576)$\n",
    "\n",
    "Since, the components of $X^p$ are independent,\n",
    "$= 1 - \\prod_{i=1}^{p}\\mathcal{Pr}(\\lvert{X^i}\\rvert \\leq 2.576)$\n",
    "\n",
    "$= 1 - (0.99)^p$\n",
    "\n",
    "* p = 2 $\\implies \\mathcal{Pr}(\\lVert{X^p}\\rVert_{\\infty} > 2.576) = 1 - (0.99)^2 = 0.0199$\n",
    "* p = 3 $\\implies \\mathcal{Pr}(\\lVert{X^p}\\rVert_{\\infty} > 2.576) = 1 - (0.99)^3 = 0.0297$\n",
    "* p = 500 $\\implies \\mathcal{Pr}(\\lVert{X^p}\\rVert_{\\infty} > 2.576) = 1 - (0.99)^{500} = 0.9934$"
   ]
  },
  {
   "cell_type": "markdown",
   "metadata": {},
   "source": [
    "## Task 2"
   ]
  },
  {
   "cell_type": "code",
   "execution_count": null,
   "metadata": {},
   "outputs": [],
   "source": []
  },
  {
   "cell_type": "markdown",
   "metadata": {},
   "source": [
    "## Task 3"
   ]
  },
  {
   "cell_type": "markdown",
   "metadata": {},
   "source": [
    "## Task 4"
   ]
  }
 ],
 "metadata": {
  "kernelspec": {
   "display_name": "Python [conda env:py37]",
   "language": "python",
   "name": "conda-env-py37-py"
  },
  "language_info": {
   "codemirror_mode": {
    "name": "ipython",
    "version": 3
   },
   "file_extension": ".py",
   "mimetype": "text/x-python",
   "name": "python",
   "nbconvert_exporter": "python",
   "pygments_lexer": "ipython3",
   "version": "3.7.4"
  }
 },
 "nbformat": 4,
 "nbformat_minor": 2
}
